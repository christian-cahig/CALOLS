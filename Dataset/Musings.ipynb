{
 "cells": [
  {
   "cell_type": "markdown",
   "metadata": {},
   "source": [
    "## IEEE 37-Node Test Feeder\n",
    "\n",
    "- downloaded from https://site.ieee.org/pes-testfeeders/resources/\n",
    "- see sheet \"IEEE 37-Node Test Feeder\" in `./Ported Load Values.xlsx`\n",
    "- each phase from each load in the original system is treated as one consumer, provided that it has non-zero kilowatt (kW) value\n",
    "- total of 32 consumers\n",
    "- only active power values are used\n",
    "- consumer $c_{\\max}$ with largest kW value $L_{\\max}$ is given $M_{\\max}$ appliances\n",
    "- any other consumer $c$ with kW value $L_{c}$ is given $M_{c} = \\text{floor} \\left(\\frac{L_{c}}{L_{\\max}} M_{\\max}\\right) + U_{\\text{d}} [10,20]$ where $\\text{floor}$ is the floor function and $U_{\\text{d}} [10,20]$ is a discrete uniform distribution from the interval $[10,20]$\n",
    "- to assign power rating for each appliance in consumer $c$, the interval $[0,L_{c}]$ is mapped unto the interval $[0,1.0]$, wherein $M_{c} - 1$ points are sampled according to the uniform distribution $U [0.1,1.0)$; the lengths of the resulting $M_{c}$ sub-intervals are fractions of $L_{c}$ that are the ratings of the $M_{c}$ appliances\n",
    "- each appliance is given priority level drawn from $U_{\\text{d}} [1,P_{c}]$ where $P_{c}$ is the number of priority levels for consumer $c$\n",
    "\n",
    "IEEE 37-Node Test Feeder A (37NTF-A)\n",
    "- $M_{\\max} = 100$\n",
    "- $P_{c} = 5$ for all consumer $c$\n",
    "\n",
    "IEEE 37-Node Test Feeder B (37NTF-B)\n",
    "- $M_{\\max} = 100$\n",
    "- $P_{c} = U_{\\text{d}}[1,5]$"
   ]
  },
  {
   "cell_type": "code",
   "execution_count": null,
   "metadata": {},
   "outputs": [],
   "source": []
  },
  {
   "cell_type": "markdown",
   "metadata": {},
   "source": [
    "## 37NTF-A"
   ]
  },
  {
   "cell_type": "code",
   "execution_count": 1,
   "metadata": {},
   "outputs": [],
   "source": [
    "import matplotlib, numpy, pandas\n",
    "from matplotlib import pyplot"
   ]
  },
  {
   "cell_type": "code",
   "execution_count": 2,
   "metadata": {},
   "outputs": [],
   "source": [
    "M_max = 100\n",
    "P_c = 5"
   ]
  },
  {
   "cell_type": "code",
   "execution_count": 3,
   "metadata": {},
   "outputs": [],
   "source": [
    "# Raw ported values\n",
    "IEEE_37NTF_df = pandas.read_excel(\"./Ported Load Values.xlsx\", sheet_name=\"IEEE 37-Node Test Feeder\")"
   ]
  },
  {
   "cell_type": "code",
   "execution_count": 4,
   "metadata": {},
   "outputs": [],
   "source": [
    "# Remove kVAr info\n",
    "IEEE_37NTF_df = IEEE_37NTF_df.drop(columns=[\"kVAr\"])"
   ]
  },
  {
   "cell_type": "code",
   "execution_count": 5,
   "metadata": {},
   "outputs": [],
   "source": [
    "# Get consumer kW\n",
    "L_c = IEEE_37NTF_df[\"kW\"].to_numpy(dtype=numpy.float32)\n",
    "L_max, index_L_max = L_c.max(), L_c.argmax()"
   ]
  },
  {
   "cell_type": "code",
   "execution_count": 6,
   "metadata": {},
   "outputs": [],
   "source": [
    "# No. of appliances in each consumer\n",
    "M_c = numpy.floor(M_max * L_c / L_max).astype(numpy.int64) + numpy.random.randint(10,20,L_c.shape)\n",
    "M_c[index_L_max] = M_max"
   ]
  },
  {
   "cell_type": "code",
   "execution_count": 7,
   "metadata": {},
   "outputs": [],
   "source": [
    "# Update DataFrame\n",
    "IEEE_37NTF_df[\"No. of appliances\"] = M_c"
   ]
  },
  {
   "cell_type": "code",
   "execution_count": 10,
   "metadata": {},
   "outputs": [
    {
     "data": {
      "text/html": [
       "<div>\n",
       "<style scoped>\n",
       "    .dataframe tbody tr th:only-of-type {\n",
       "        vertical-align: middle;\n",
       "    }\n",
       "\n",
       "    .dataframe tbody tr th {\n",
       "        vertical-align: top;\n",
       "    }\n",
       "\n",
       "    .dataframe thead th {\n",
       "        text-align: right;\n",
       "    }\n",
       "</style>\n",
       "<table border=\"1\" class=\"dataframe\">\n",
       "  <thead>\n",
       "    <tr style=\"text-align: right;\">\n",
       "      <th></th>\n",
       "      <th>Consumer ID</th>\n",
       "      <th>kW</th>\n",
       "      <th>No. of appliances</th>\n",
       "    </tr>\n",
       "  </thead>\n",
       "  <tbody>\n",
       "    <tr>\n",
       "      <th>0</th>\n",
       "      <td>701-1</td>\n",
       "      <td>140</td>\n",
       "      <td>59</td>\n",
       "    </tr>\n",
       "    <tr>\n",
       "      <th>1</th>\n",
       "      <td>701-2</td>\n",
       "      <td>140</td>\n",
       "      <td>50</td>\n",
       "    </tr>\n",
       "    <tr>\n",
       "      <th>2</th>\n",
       "      <td>701-3</td>\n",
       "      <td>350</td>\n",
       "      <td>100</td>\n",
       "    </tr>\n",
       "    <tr>\n",
       "      <th>3</th>\n",
       "      <td>712-3</td>\n",
       "      <td>85</td>\n",
       "      <td>36</td>\n",
       "    </tr>\n",
       "    <tr>\n",
       "      <th>4</th>\n",
       "      <td>713-3</td>\n",
       "      <td>85</td>\n",
       "      <td>37</td>\n",
       "    </tr>\n",
       "  </tbody>\n",
       "</table>\n",
       "</div>"
      ],
      "text/plain": [
       "  Consumer ID   kW  No. of appliances\n",
       "0       701-1  140                 59\n",
       "1       701-2  140                 50\n",
       "2       701-3  350                100\n",
       "3       712-3   85                 36\n",
       "4       713-3   85                 37"
      ]
     },
     "execution_count": 10,
     "metadata": {},
     "output_type": "execute_result"
    }
   ],
   "source": [
    "IEEE_37NTF_df.head()"
   ]
  },
  {
   "cell_type": "code",
   "execution_count": 12,
   "metadata": {},
   "outputs": [],
   "source": [
    "# For record keeping\n",
    "IEEE_37NTF_df.to_excel(\"37NTF-A.xlsx\", sheet_name=\"Overview\", index=False)"
   ]
  },
  {
   "cell_type": "code",
   "execution_count": null,
   "metadata": {},
   "outputs": [],
   "source": []
  }
 ],
 "metadata": {
  "kernelspec": {
   "display_name": "Python 3",
   "language": "python",
   "name": "python3"
  },
  "language_info": {
   "codemirror_mode": {
    "name": "ipython",
    "version": 3
   },
   "file_extension": ".py",
   "mimetype": "text/x-python",
   "name": "python",
   "nbconvert_exporter": "python",
   "pygments_lexer": "ipython3",
   "version": "3.8.0"
  }
 },
 "nbformat": 4,
 "nbformat_minor": 4
}
