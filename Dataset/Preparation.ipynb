{
 "cells": [
  {
   "cell_type": "markdown",
   "metadata": {},
   "source": [
    "# Dataset Preparation"
   ]
  },
  {
   "cell_type": "markdown",
   "metadata": {},
   "source": [
    "## <a id=\"contents\"></a>Contents\n",
    "- [Overview](#overview)\n",
    "- [37NTF-A](#37ntf-a)\n",
    "    - [Part 1](#37ntf-a--part-1)\n",
    "    - [Part 2](#37ntf-a--part-2)\n",
    "- [37NTF-B](#37ntf-b)\n",
    "    - [Part 1](#37ntf-b--part-1)\n",
    "    - [Part 2](#37ntf-b--part-2)\n",
    "- [37NTF-C](#37ntf-c)\n",
    "    - [Part 1](#37ntf-c--part-1)\n",
    "    - [Part 2](#37ntf-c--part-2)"
   ]
  },
  {
   "cell_type": "markdown",
   "metadata": {},
   "source": [
    "---"
   ]
  },
  {
   "cell_type": "markdown",
   "metadata": {},
   "source": [
    "## <a id=\"overview\"></a>Overview\n",
    "\n",
    "**Note:** Please refer to [the paper](../Paper/) for the definitions of variables.\n",
    "\n",
    "- based on [IEEE 37-Node Test Feeder](https://site.ieee.org/pes-testfeeders/resources/) (37NTF)\n",
    "- Each phase of a point load in 37NTF is treated as one consumer,\n",
    "provided that it has a non-zero active power value.\n",
    "    - For example, consider the load at node `742` which draws active powers of 8 kW (across phase A-B) and 85 kW (across phase B-C).\n",
    "    These are encoded as consumers `742-1` and `742-2` with respective $L_{c}$'s of 8 kW and 85 kW.\n",
    "    - 32 consumers in total\n",
    "    - Consumer IDs and their respective power demands are available in `./Ported Load Values.xlsx` under the sheet named `IEEE 37-Node Test Feeder`.\n",
    "- We assume that a consumer $c$'s appliance active power ratings add up to $L_{c}$.\n",
    "- To assign power ratings for the $N_{c}$ appliances, we map the interval $[ 0,L_{c} ]$ unto $[0,1]$,\n",
    "and sample $N_{c}-1$ points within $[0,1]$ according to a continuous uniform distribution $U [0.05,1)$.\n",
    "This divides $[0,1]$ (as well as $[0,L_{c}]$) in to $N_{c}$ sub-intervals.\n",
    "    - The length of a sub-interval in $[0,1]$ is the active power rating of an appliance expressed as\n",
    "    a fraction of $L_{c}$.\n",
    "    - In principle, the lengths of the equivalent sub-intervals in $[0,L_{c}]$ add up to $L_{c}$.\n",
    "    - To account for numerical precision, appliance ratings are rounded to 5 decimal places,\n",
    "    and the deficit between $L_{c}$ and the sum of the rounded ratings is added to the rating of a randomly chosen appliance.\n",
    "    - All appliance ratings are in kW.\n",
    "- Each appliance is assigned a priority level $p$ drawn from a discrete uniform distribution $U_{d} [1,P_{c}]$.\n",
    "- We prepare three datasets that differ in terms of $N_{c}$ and $P_{c}$.\n",
    "    - 37NTF-A\n",
    "    - 37NTF-B\n",
    "    - 37NTF-C"
   ]
  },
  {
   "cell_type": "markdown",
   "metadata": {},
   "source": [
    "---"
   ]
  },
  {
   "cell_type": "markdown",
   "metadata": {},
   "source": [
    "## <a id=\"37ntf-a\"></a>37NTF-A\n",
    "\n",
    "- all consumers have $N_{c} = 100$ appliances\n",
    "- all consumers have $P_{c} = 5$ priority levels\n",
    "- dataset saved in `./37NTF-A.xlsx`\n",
    "    - Consumer IDs and their respective $L_{c}$, $N_{c}$, and $P_{c}$ can be accessed in the sheet named `Overview`.\n",
    "    - For a consumer $c$, the ratings of appliances belonging to different priority levels are stored in a sheet named after that consumer's ID."
   ]
  },
  {
   "cell_type": "markdown",
   "metadata": {},
   "source": [
    "### <a id=\"37ntf-a--part-1\"></a>Part 1"
   ]
  },
  {
   "cell_type": "code",
   "execution_count": 1,
   "metadata": {},
   "outputs": [],
   "source": [
    "import matplotlib, numpy, openpyxl, pandas"
   ]
  },
  {
   "cell_type": "code",
   "execution_count": 2,
   "metadata": {},
   "outputs": [],
   "source": [
    "P_c = 5\n",
    "M_c_per_consumer = 100"
   ]
  },
  {
   "cell_type": "code",
   "execution_count": 3,
   "metadata": {},
   "outputs": [],
   "source": [
    "# Raw ported values\n",
    "IEEE_37NTF_df = pandas.read_excel(\"./Ported Load Values.xlsx\", sheet_name=\"IEEE 37-Node Test Feeder\")"
   ]
  },
  {
   "cell_type": "code",
   "execution_count": 4,
   "metadata": {},
   "outputs": [],
   "source": [
    "# Remove kVAr info\n",
    "IEEE_37NTF_df = IEEE_37NTF_df.drop(columns=[\"kVAr\"])"
   ]
  },
  {
   "cell_type": "code",
   "execution_count": 5,
   "metadata": {},
   "outputs": [],
   "source": [
    "# Get consumer kW\n",
    "L_c = IEEE_37NTF_df[\"kW\"].to_numpy(dtype=numpy.float32)"
   ]
  },
  {
   "cell_type": "code",
   "execution_count": 6,
   "metadata": {},
   "outputs": [],
   "source": [
    "# No. of appliances in each consumer\n",
    "M_c = numpy.zeros(L_c.shape) + M_c_per_consumer\n",
    "\n",
    "IEEE_37NTF_df[\"No. of appliances\"] = M_c.astype(numpy.int64)"
   ]
  },
  {
   "cell_type": "code",
   "execution_count": 7,
   "metadata": {},
   "outputs": [],
   "source": [
    "# Add no. of priority levels for each consumer\n",
    "IEEE_37NTF_df[\"No. of priority levels\"] = numpy.array([P_c for i in range(len(IEEE_37NTF_df[\"Consumer ID\"]))])"
   ]
  },
  {
   "cell_type": "code",
   "execution_count": 8,
   "metadata": {
    "collapsed": true,
    "jupyter": {
     "outputs_hidden": true
    }
   },
   "outputs": [
    {
     "data": {
      "text/html": [
       "<div>\n",
       "<style scoped>\n",
       "    .dataframe tbody tr th:only-of-type {\n",
       "        vertical-align: middle;\n",
       "    }\n",
       "\n",
       "    .dataframe tbody tr th {\n",
       "        vertical-align: top;\n",
       "    }\n",
       "\n",
       "    .dataframe thead th {\n",
       "        text-align: right;\n",
       "    }\n",
       "</style>\n",
       "<table border=\"1\" class=\"dataframe\">\n",
       "  <thead>\n",
       "    <tr style=\"text-align: right;\">\n",
       "      <th></th>\n",
       "      <th>Consumer ID</th>\n",
       "      <th>kW</th>\n",
       "      <th>No. of appliances</th>\n",
       "      <th>No. of priority levels</th>\n",
       "    </tr>\n",
       "  </thead>\n",
       "  <tbody>\n",
       "    <tr>\n",
       "      <th>0</th>\n",
       "      <td>701-1</td>\n",
       "      <td>140</td>\n",
       "      <td>100</td>\n",
       "      <td>5</td>\n",
       "    </tr>\n",
       "    <tr>\n",
       "      <th>1</th>\n",
       "      <td>701-2</td>\n",
       "      <td>140</td>\n",
       "      <td>100</td>\n",
       "      <td>5</td>\n",
       "    </tr>\n",
       "    <tr>\n",
       "      <th>2</th>\n",
       "      <td>701-3</td>\n",
       "      <td>350</td>\n",
       "      <td>100</td>\n",
       "      <td>5</td>\n",
       "    </tr>\n",
       "    <tr>\n",
       "      <th>3</th>\n",
       "      <td>712-3</td>\n",
       "      <td>85</td>\n",
       "      <td>100</td>\n",
       "      <td>5</td>\n",
       "    </tr>\n",
       "    <tr>\n",
       "      <th>4</th>\n",
       "      <td>713-3</td>\n",
       "      <td>85</td>\n",
       "      <td>100</td>\n",
       "      <td>5</td>\n",
       "    </tr>\n",
       "  </tbody>\n",
       "</table>\n",
       "</div>"
      ],
      "text/plain": [
       "  Consumer ID   kW  No. of appliances  No. of priority levels\n",
       "0       701-1  140                100                       5\n",
       "1       701-2  140                100                       5\n",
       "2       701-3  350                100                       5\n",
       "3       712-3   85                100                       5\n",
       "4       713-3   85                100                       5"
      ]
     },
     "execution_count": 8,
     "metadata": {},
     "output_type": "execute_result"
    }
   ],
   "source": [
    "IEEE_37NTF_df.head()"
   ]
  },
  {
   "cell_type": "code",
   "execution_count": 9,
   "metadata": {},
   "outputs": [],
   "source": [
    "# For record keeping (08 October 2020)\n",
    "workbook_path = \"./37NTF-A.xlsx\"\n",
    "writer = pandas.ExcelWriter(workbook_path, engine=\"openpyxl\")\n",
    "\n",
    "IEEE_37NTF_df.to_excel(writer, sheet_name=\"Overview\", index=False)\n",
    "writer.save()\n",
    "writer.close()"
   ]
  },
  {
   "cell_type": "markdown",
   "metadata": {},
   "source": [
    "### <a id=\"37ntf-a--part-2\"></a>Part 2"
   ]
  },
  {
   "cell_type": "code",
   "execution_count": 1,
   "metadata": {},
   "outputs": [],
   "source": [
    "import matplotlib, numpy, openpyxl, pandas\n",
    "from matplotlib import pyplot"
   ]
  },
  {
   "cell_type": "code",
   "execution_count": 2,
   "metadata": {
    "collapsed": true,
    "jupyter": {
     "outputs_hidden": true
    }
   },
   "outputs": [
    {
     "data": {
      "text/html": [
       "<div>\n",
       "<style scoped>\n",
       "    .dataframe tbody tr th:only-of-type {\n",
       "        vertical-align: middle;\n",
       "    }\n",
       "\n",
       "    .dataframe tbody tr th {\n",
       "        vertical-align: top;\n",
       "    }\n",
       "\n",
       "    .dataframe thead th {\n",
       "        text-align: right;\n",
       "    }\n",
       "</style>\n",
       "<table border=\"1\" class=\"dataframe\">\n",
       "  <thead>\n",
       "    <tr style=\"text-align: right;\">\n",
       "      <th></th>\n",
       "      <th>Consumer ID</th>\n",
       "      <th>kW</th>\n",
       "      <th>No. of appliances</th>\n",
       "      <th>No. of priority levels</th>\n",
       "    </tr>\n",
       "  </thead>\n",
       "  <tbody>\n",
       "    <tr>\n",
       "      <th>0</th>\n",
       "      <td>701-1</td>\n",
       "      <td>140</td>\n",
       "      <td>100</td>\n",
       "      <td>5</td>\n",
       "    </tr>\n",
       "    <tr>\n",
       "      <th>1</th>\n",
       "      <td>701-2</td>\n",
       "      <td>140</td>\n",
       "      <td>100</td>\n",
       "      <td>5</td>\n",
       "    </tr>\n",
       "    <tr>\n",
       "      <th>2</th>\n",
       "      <td>701-3</td>\n",
       "      <td>350</td>\n",
       "      <td>100</td>\n",
       "      <td>5</td>\n",
       "    </tr>\n",
       "    <tr>\n",
       "      <th>3</th>\n",
       "      <td>712-3</td>\n",
       "      <td>85</td>\n",
       "      <td>100</td>\n",
       "      <td>5</td>\n",
       "    </tr>\n",
       "    <tr>\n",
       "      <th>4</th>\n",
       "      <td>713-3</td>\n",
       "      <td>85</td>\n",
       "      <td>100</td>\n",
       "      <td>5</td>\n",
       "    </tr>\n",
       "  </tbody>\n",
       "</table>\n",
       "</div>"
      ],
      "text/plain": [
       "  Consumer ID   kW  No. of appliances  No. of priority levels\n",
       "0       701-1  140                100                       5\n",
       "1       701-2  140                100                       5\n",
       "2       701-3  350                100                       5\n",
       "3       712-3   85                100                       5\n",
       "4       713-3   85                100                       5"
      ]
     },
     "execution_count": 2,
     "metadata": {},
     "output_type": "execute_result"
    }
   ],
   "source": [
    "workbook_path = \"./37NTF-A.xlsx\"\n",
    "workbook = openpyxl.load_workbook(workbook_path)\n",
    "writer = pandas.ExcelWriter(workbook_path, engine=\"openpyxl\")\n",
    "writer.book = workbook\n",
    "\n",
    "IEEE_37NTF_df = pandas.read_excel(\"./37NTF-A.xlsx\", sheet_name=\"Overview\")\n",
    "IEEE_37NTF_df.head()"
   ]
  },
  {
   "cell_type": "code",
   "execution_count": 3,
   "metadata": {},
   "outputs": [],
   "source": [
    "# Partition consumer load into appliance ratings\n",
    "for i in IEEE_37NTF_df.index:\n",
    "    rand_points = numpy.random.uniform(0.05, 1.0, size=(IEEE_37NTF_df[\"No. of appliances\"][i]-1,))\n",
    "    # Just to make sure that no values are repeated\n",
    "    while not (rand_points.shape[0] == numpy.unique(rand_points).shape[0]):\n",
    "        rand_points = numpy.random.uniform(0.05, 1.0, size=(IEEE_37NTF_df[\"No. of appliances\"][i]-1,))\n",
    "    \n",
    "    rand_points.sort()\n",
    "    rand_points = numpy.append(numpy.array([0.0]), rand_points)\n",
    "    rand_points = numpy.append(rand_points, numpy.array([1.0]))\n",
    "    \n",
    "    # Appliance ratings\n",
    "    d_c = numpy.array([rand_points[i] - rand_points[i-1] for i in range(1,IEEE_37NTF_df[\"No. of appliances\"][i]+1)])\n",
    "    d_c = d_c * IEEE_37NTF_df[\"kW\"][i]\n",
    "    \n",
    "    # Round appliance ratings to 5 decimal places\n",
    "    d_c = numpy.around(d_c, decimals=5)\n",
    "        \n",
    "    # Just to make sure the sum of all appliance ratings equals the consumer rated load up to numerical precision\n",
    "    deficit = float(IEEE_37NTF_df[\"kW\"][i]) - numpy.sum(d_c)\n",
    "    index_slack_appliance = numpy.random.randint(0, IEEE_37NTF_df[\"No. of appliances\"][i])\n",
    "    d_c[index_slack_appliance] += deficit\n",
    "    \n",
    "    # Assign priority levels to the appliances\n",
    "    priority_levels = numpy.random.randint(1, IEEE_37NTF_df[\"No. of priority levels\"][i]+1, size=d_c.shape)\n",
    "    \n",
    "    # Group appliances according to priority levels\n",
    "    prioritized_d_c = []\n",
    "    for p in range(1, IEEE_37NTF_df[\"No. of priority levels\"][i]+1):\n",
    "        priority_level_masks = priority_levels == p\n",
    "        prioritized_d_c.append(d_c[priority_level_masks])\n",
    "    \n",
    "    # Construct dedicated DataFrame for a consumer\n",
    "    consumer_df = pandas.concat([\n",
    "        pandas.DataFrame({\"Priority level \"+str(p) : prioritized_d_c[p-1]}) \\\n",
    "        for p in range(1, IEEE_37NTF_df[\"No. of priority levels\"][i]+1)\n",
    "    ], axis=1)\n",
    "    \n",
    "    # Export consumer DataFrame as a dedicated sheet in spreadsheet\n",
    "    consumer_df.to_excel(writer, sheet_name=IEEE_37NTF_df[\"Consumer ID\"][i], index=False)"
   ]
  },
  {
   "cell_type": "code",
   "execution_count": 4,
   "metadata": {},
   "outputs": [],
   "source": [
    "# For record keeping (08 October 2020)\n",
    "\n",
    "writer.save()\n",
    "writer.close()"
   ]
  },
  {
   "cell_type": "markdown",
   "metadata": {},
   "source": [
    "---"
   ]
  },
  {
   "cell_type": "markdown",
   "metadata": {},
   "source": [
    "## <a id=\"37ntf-b\"></a>37NTF-B\n",
    "\n",
    "- all consumers have $P_{c} = 5$ priority levels\n",
    "- The consumer with the largest active power demand (say, $\\hat{L}_{c}$) has the most number of appliances, $\\hat{N}_{c}=100$. For all other consumers, the number of appliances is given by\n",
    "$$ N_{c} = \\text{floor} \\left( \\frac{L_{c}}{\\hat{L}_{c}} \\hat{N}_{c} \\right) + U_{d} [10,20]$$\n",
    "where $\\text{floor}$ is the floor function.\n",
    "- dataset saved in `./37NTF-B.xlsx`\n",
    "    - Consumer IDs and their respective $L_{c}$, $N_{c}$, and $P_{c}$ can be accessed in the sheet named `Overview`.\n",
    "    - For a consumer $c$, the ratings of appliances belonging to different priority levels are stored in a sheet named after that consumer's ID."
   ]
  },
  {
   "cell_type": "markdown",
   "metadata": {},
   "source": [
    "### <a id=\"37ntf-b--part-1\"></a>Part 1"
   ]
  },
  {
   "cell_type": "code",
   "execution_count": 1,
   "metadata": {},
   "outputs": [],
   "source": [
    "import matplotlib, numpy, openpyxl, pandas"
   ]
  },
  {
   "cell_type": "code",
   "execution_count": 2,
   "metadata": {},
   "outputs": [],
   "source": [
    "M_max = 100\n",
    "P_c = 5"
   ]
  },
  {
   "cell_type": "code",
   "execution_count": 3,
   "metadata": {},
   "outputs": [],
   "source": [
    "# Raw ported values\n",
    "IEEE_37NTF_df = pandas.read_excel(\"./Ported Load Values.xlsx\", sheet_name=\"IEEE 37-Node Test Feeder\")"
   ]
  },
  {
   "cell_type": "code",
   "execution_count": 4,
   "metadata": {},
   "outputs": [],
   "source": [
    "# Remove kVAr info\n",
    "IEEE_37NTF_df = IEEE_37NTF_df.drop(columns=[\"kVAr\"])"
   ]
  },
  {
   "cell_type": "code",
   "execution_count": 5,
   "metadata": {},
   "outputs": [],
   "source": [
    "# Get consumer kW\n",
    "L_c = IEEE_37NTF_df[\"kW\"].to_numpy(dtype=numpy.float32)\n",
    "L_max, index_L_max = L_c.max(), L_c.argmax()"
   ]
  },
  {
   "cell_type": "code",
   "execution_count": 6,
   "metadata": {},
   "outputs": [],
   "source": [
    "# No. of appliances in each consumer\n",
    "M_c = numpy.floor(M_max * L_c / L_max).astype(numpy.int64) + numpy.random.randint(10,20,L_c.shape)\n",
    "M_c[index_L_max] = M_max\n",
    "\n",
    "IEEE_37NTF_df[\"No. of appliances\"] = M_c"
   ]
  },
  {
   "cell_type": "code",
   "execution_count": 7,
   "metadata": {},
   "outputs": [],
   "source": [
    "# Add no. of priority levels for each consumer\n",
    "IEEE_37NTF_df[\"No. of priority levels\"] = numpy.array([P_c for i in range(len(IEEE_37NTF_df[\"Consumer ID\"]))])"
   ]
  },
  {
   "cell_type": "code",
   "execution_count": 8,
   "metadata": {},
   "outputs": [
    {
     "data": {
      "text/html": [
       "<div>\n",
       "<style scoped>\n",
       "    .dataframe tbody tr th:only-of-type {\n",
       "        vertical-align: middle;\n",
       "    }\n",
       "\n",
       "    .dataframe tbody tr th {\n",
       "        vertical-align: top;\n",
       "    }\n",
       "\n",
       "    .dataframe thead th {\n",
       "        text-align: right;\n",
       "    }\n",
       "</style>\n",
       "<table border=\"1\" class=\"dataframe\">\n",
       "  <thead>\n",
       "    <tr style=\"text-align: right;\">\n",
       "      <th></th>\n",
       "      <th>Consumer ID</th>\n",
       "      <th>kW</th>\n",
       "      <th>No. of appliances</th>\n",
       "      <th>No. of priority levels</th>\n",
       "    </tr>\n",
       "  </thead>\n",
       "  <tbody>\n",
       "    <tr>\n",
       "      <th>0</th>\n",
       "      <td>701-1</td>\n",
       "      <td>140</td>\n",
       "      <td>53</td>\n",
       "      <td>5</td>\n",
       "    </tr>\n",
       "    <tr>\n",
       "      <th>1</th>\n",
       "      <td>701-2</td>\n",
       "      <td>140</td>\n",
       "      <td>58</td>\n",
       "      <td>5</td>\n",
       "    </tr>\n",
       "    <tr>\n",
       "      <th>2</th>\n",
       "      <td>701-3</td>\n",
       "      <td>350</td>\n",
       "      <td>100</td>\n",
       "      <td>5</td>\n",
       "    </tr>\n",
       "    <tr>\n",
       "      <th>3</th>\n",
       "      <td>712-3</td>\n",
       "      <td>85</td>\n",
       "      <td>42</td>\n",
       "      <td>5</td>\n",
       "    </tr>\n",
       "    <tr>\n",
       "      <th>4</th>\n",
       "      <td>713-3</td>\n",
       "      <td>85</td>\n",
       "      <td>39</td>\n",
       "      <td>5</td>\n",
       "    </tr>\n",
       "  </tbody>\n",
       "</table>\n",
       "</div>"
      ],
      "text/plain": [
       "  Consumer ID   kW  No. of appliances  No. of priority levels\n",
       "0       701-1  140                 53                       5\n",
       "1       701-2  140                 58                       5\n",
       "2       701-3  350                100                       5\n",
       "3       712-3   85                 42                       5\n",
       "4       713-3   85                 39                       5"
      ]
     },
     "execution_count": 8,
     "metadata": {},
     "output_type": "execute_result"
    }
   ],
   "source": [
    "IEEE_37NTF_df.head()"
   ]
  },
  {
   "cell_type": "code",
   "execution_count": 9,
   "metadata": {},
   "outputs": [],
   "source": [
    "# For record keeping (08 October 2020)\n",
    "workbook_path = \"./37NTF-B.xlsx\"\n",
    "writer = pandas.ExcelWriter(workbook_path, engine=\"openpyxl\")\n",
    "\n",
    "IEEE_37NTF_df.to_excel(writer, sheet_name=\"Overview\", index=False)\n",
    "writer.save()\n",
    "writer.close()"
   ]
  },
  {
   "cell_type": "markdown",
   "metadata": {},
   "source": [
    "### <a id=\"37ntf-b--part-2\"></a>Part 2"
   ]
  },
  {
   "cell_type": "code",
   "execution_count": 1,
   "metadata": {},
   "outputs": [],
   "source": [
    "import matplotlib, numpy, openpyxl, pandas\n",
    "from matplotlib import pyplot"
   ]
  },
  {
   "cell_type": "code",
   "execution_count": 2,
   "metadata": {},
   "outputs": [
    {
     "data": {
      "text/html": [
       "<div>\n",
       "<style scoped>\n",
       "    .dataframe tbody tr th:only-of-type {\n",
       "        vertical-align: middle;\n",
       "    }\n",
       "\n",
       "    .dataframe tbody tr th {\n",
       "        vertical-align: top;\n",
       "    }\n",
       "\n",
       "    .dataframe thead th {\n",
       "        text-align: right;\n",
       "    }\n",
       "</style>\n",
       "<table border=\"1\" class=\"dataframe\">\n",
       "  <thead>\n",
       "    <tr style=\"text-align: right;\">\n",
       "      <th></th>\n",
       "      <th>Consumer ID</th>\n",
       "      <th>kW</th>\n",
       "      <th>No. of appliances</th>\n",
       "      <th>No. of priority levels</th>\n",
       "    </tr>\n",
       "  </thead>\n",
       "  <tbody>\n",
       "    <tr>\n",
       "      <th>0</th>\n",
       "      <td>701-1</td>\n",
       "      <td>140</td>\n",
       "      <td>53</td>\n",
       "      <td>5</td>\n",
       "    </tr>\n",
       "    <tr>\n",
       "      <th>1</th>\n",
       "      <td>701-2</td>\n",
       "      <td>140</td>\n",
       "      <td>58</td>\n",
       "      <td>5</td>\n",
       "    </tr>\n",
       "    <tr>\n",
       "      <th>2</th>\n",
       "      <td>701-3</td>\n",
       "      <td>350</td>\n",
       "      <td>100</td>\n",
       "      <td>5</td>\n",
       "    </tr>\n",
       "    <tr>\n",
       "      <th>3</th>\n",
       "      <td>712-3</td>\n",
       "      <td>85</td>\n",
       "      <td>42</td>\n",
       "      <td>5</td>\n",
       "    </tr>\n",
       "    <tr>\n",
       "      <th>4</th>\n",
       "      <td>713-3</td>\n",
       "      <td>85</td>\n",
       "      <td>39</td>\n",
       "      <td>5</td>\n",
       "    </tr>\n",
       "  </tbody>\n",
       "</table>\n",
       "</div>"
      ],
      "text/plain": [
       "  Consumer ID   kW  No. of appliances  No. of priority levels\n",
       "0       701-1  140                 53                       5\n",
       "1       701-2  140                 58                       5\n",
       "2       701-3  350                100                       5\n",
       "3       712-3   85                 42                       5\n",
       "4       713-3   85                 39                       5"
      ]
     },
     "execution_count": 2,
     "metadata": {},
     "output_type": "execute_result"
    }
   ],
   "source": [
    "workbook_path = \"./37NTF-B.xlsx\"\n",
    "workbook = openpyxl.load_workbook(workbook_path)\n",
    "writer = pandas.ExcelWriter(workbook_path, engine=\"openpyxl\")\n",
    "writer.book = workbook\n",
    "\n",
    "IEEE_37NTF_df = pandas.read_excel(\"./37NTF-B.xlsx\", sheet_name=\"Overview\")\n",
    "IEEE_37NTF_df.head()"
   ]
  },
  {
   "cell_type": "code",
   "execution_count": 3,
   "metadata": {
    "scrolled": true
   },
   "outputs": [],
   "source": [
    "# Partition consumer load into appliance ratings\n",
    "for i in IEEE_37NTF_df.index:\n",
    "    rand_points = numpy.random.uniform(0.05, 1.0, size=(IEEE_37NTF_df[\"No. of appliances\"][i]-1,))\n",
    "    # Just to make sure that no values are repeated\n",
    "    while not (rand_points.shape[0] == numpy.unique(rand_points).shape[0]):\n",
    "        rand_points = numpy.random.uniform(0.05, 1.0, size=(IEEE_37NTF_df[\"No. of appliances\"][i]-1,))\n",
    "    \n",
    "    rand_points.sort()\n",
    "    rand_points = numpy.append(numpy.array([0.0]), rand_points)\n",
    "    rand_points = numpy.append(rand_points, numpy.array([1.0]))\n",
    "    \n",
    "    # Appliance ratings\n",
    "    d_c = numpy.array([rand_points[i] - rand_points[i-1] for i in range(1,IEEE_37NTF_df[\"No. of appliances\"][i]+1)])\n",
    "    d_c = d_c * IEEE_37NTF_df[\"kW\"][i]\n",
    "    \n",
    "    # Round appliance ratings to 5 decimal places\n",
    "    d_c = numpy.around(d_c, decimals=5)\n",
    "        \n",
    "    # Just to make sure the sum of all appliance ratings equals the consumer rated load up to numerical precision\n",
    "    deficit = float(IEEE_37NTF_df[\"kW\"][i]) - numpy.sum(d_c)\n",
    "    index_slack_appliance = numpy.random.randint(0, IEEE_37NTF_df[\"No. of appliances\"][i])\n",
    "    d_c[index_slack_appliance] += deficit\n",
    "    \n",
    "    # Assign priority levels to the appliances\n",
    "    priority_levels = numpy.random.randint(1, IEEE_37NTF_df[\"No. of priority levels\"][i]+1, size=d_c.shape)\n",
    "    \n",
    "    # Group appliances according to priority levels\n",
    "    prioritized_d_c = []\n",
    "    for p in range(1, IEEE_37NTF_df[\"No. of priority levels\"][i]+1):\n",
    "        priority_level_masks = priority_levels == p\n",
    "        prioritized_d_c.append(d_c[priority_level_masks])\n",
    "    \n",
    "    # Construct dedicated DataFrame for a consumer\n",
    "    consumer_df = pandas.concat([\n",
    "        pandas.DataFrame({\"Priority level \"+str(p) : prioritized_d_c[p-1]}) \\\n",
    "        for p in range(1, IEEE_37NTF_df[\"No. of priority levels\"][i]+1)\n",
    "    ], axis=1)\n",
    "    \n",
    "    # Export consumer DataFrame as a dedicated sheet in spreadsheet\n",
    "    consumer_df.to_excel(writer, sheet_name=IEEE_37NTF_df[\"Consumer ID\"][i], index=False)"
   ]
  },
  {
   "cell_type": "code",
   "execution_count": 4,
   "metadata": {},
   "outputs": [],
   "source": [
    "# For record keeping (08 October 2020)\n",
    "\n",
    "writer.save()\n",
    "writer.close()"
   ]
  },
  {
   "cell_type": "markdown",
   "metadata": {},
   "source": [
    "---"
   ]
  },
  {
   "cell_type": "markdown",
   "metadata": {},
   "source": [
    "## <a id=\"37ntf-c\"></a>37NTF-C\n",
    "\n",
    "- all consumers have $N_{c} = 100$ appliances\n",
    "- For a consumer $c$, $P_{c}$ is drawn from $U_{d} [1,5]$.\n",
    "- dataset saved in `./37NTF-C.xlsx`\n",
    "    - Consumer IDs and their respective $L_{c}$, $N_{c}$, and $P_{c}$ can be accessed in the sheet named `Overview`.\n",
    "    - For a consumer $c$, the ratings of appliances belonging to different priority levels are stored in a sheet named after that consumer's ID."
   ]
  },
  {
   "cell_type": "markdown",
   "metadata": {},
   "source": [
    "### <a id=\"37ntf-c--part-1\"></a>Part 1"
   ]
  },
  {
   "cell_type": "code",
   "execution_count": 1,
   "metadata": {},
   "outputs": [],
   "source": [
    "import matplotlib, numpy, openpyxl, pandas"
   ]
  },
  {
   "cell_type": "code",
   "execution_count": 2,
   "metadata": {},
   "outputs": [],
   "source": [
    "M_c_per_consumer = 100"
   ]
  },
  {
   "cell_type": "code",
   "execution_count": 3,
   "metadata": {},
   "outputs": [],
   "source": [
    "# Raw ported values\n",
    "IEEE_37NTF_df = pandas.read_excel(\"./Ported Load Values.xlsx\", sheet_name=\"IEEE 37-Node Test Feeder\")"
   ]
  },
  {
   "cell_type": "code",
   "execution_count": 4,
   "metadata": {},
   "outputs": [],
   "source": [
    "# Remove kVAr info\n",
    "IEEE_37NTF_df = IEEE_37NTF_df.drop(columns=[\"kVAr\"])"
   ]
  },
  {
   "cell_type": "code",
   "execution_count": 5,
   "metadata": {},
   "outputs": [],
   "source": [
    "# Get consumer kW\n",
    "L_c = IEEE_37NTF_df[\"kW\"].to_numpy(dtype=numpy.float32)"
   ]
  },
  {
   "cell_type": "code",
   "execution_count": 6,
   "metadata": {},
   "outputs": [],
   "source": [
    "# No. of appliances in each consumer\n",
    "M_c = numpy.zeros(L_c.shape) + M_c_per_consumer\n",
    "\n",
    "IEEE_37NTF_df[\"No. of appliances\"] = M_c.astype(numpy.int64)"
   ]
  },
  {
   "cell_type": "code",
   "execution_count": 7,
   "metadata": {},
   "outputs": [],
   "source": [
    "# Add no. of priority levels for each consumer\n",
    "IEEE_37NTF_df[\"No. of priority levels\"] = numpy.random.randint(1,6,(len(IEEE_37NTF_df[\"Consumer ID\"]),))"
   ]
  },
  {
   "cell_type": "code",
   "execution_count": 8,
   "metadata": {},
   "outputs": [
    {
     "data": {
      "text/html": [
       "<div>\n",
       "<style scoped>\n",
       "    .dataframe tbody tr th:only-of-type {\n",
       "        vertical-align: middle;\n",
       "    }\n",
       "\n",
       "    .dataframe tbody tr th {\n",
       "        vertical-align: top;\n",
       "    }\n",
       "\n",
       "    .dataframe thead th {\n",
       "        text-align: right;\n",
       "    }\n",
       "</style>\n",
       "<table border=\"1\" class=\"dataframe\">\n",
       "  <thead>\n",
       "    <tr style=\"text-align: right;\">\n",
       "      <th></th>\n",
       "      <th>Consumer ID</th>\n",
       "      <th>kW</th>\n",
       "      <th>No. of appliances</th>\n",
       "      <th>No. of priority levels</th>\n",
       "    </tr>\n",
       "  </thead>\n",
       "  <tbody>\n",
       "    <tr>\n",
       "      <th>0</th>\n",
       "      <td>701-1</td>\n",
       "      <td>140</td>\n",
       "      <td>100</td>\n",
       "      <td>2</td>\n",
       "    </tr>\n",
       "    <tr>\n",
       "      <th>1</th>\n",
       "      <td>701-2</td>\n",
       "      <td>140</td>\n",
       "      <td>100</td>\n",
       "      <td>2</td>\n",
       "    </tr>\n",
       "    <tr>\n",
       "      <th>2</th>\n",
       "      <td>701-3</td>\n",
       "      <td>350</td>\n",
       "      <td>100</td>\n",
       "      <td>5</td>\n",
       "    </tr>\n",
       "    <tr>\n",
       "      <th>3</th>\n",
       "      <td>712-3</td>\n",
       "      <td>85</td>\n",
       "      <td>100</td>\n",
       "      <td>2</td>\n",
       "    </tr>\n",
       "    <tr>\n",
       "      <th>4</th>\n",
       "      <td>713-3</td>\n",
       "      <td>85</td>\n",
       "      <td>100</td>\n",
       "      <td>1</td>\n",
       "    </tr>\n",
       "  </tbody>\n",
       "</table>\n",
       "</div>"
      ],
      "text/plain": [
       "  Consumer ID   kW  No. of appliances  No. of priority levels\n",
       "0       701-1  140                100                       2\n",
       "1       701-2  140                100                       2\n",
       "2       701-3  350                100                       5\n",
       "3       712-3   85                100                       2\n",
       "4       713-3   85                100                       1"
      ]
     },
     "execution_count": 8,
     "metadata": {},
     "output_type": "execute_result"
    }
   ],
   "source": [
    "IEEE_37NTF_df.head()"
   ]
  },
  {
   "cell_type": "code",
   "execution_count": 9,
   "metadata": {},
   "outputs": [],
   "source": [
    "# For record keeping (11 October 2020)\n",
    "workbook_path = \"./37NTF-C.xlsx\"\n",
    "writer = pandas.ExcelWriter(workbook_path, engine=\"openpyxl\")\n",
    "\n",
    "IEEE_37NTF_df.to_excel(writer, sheet_name=\"Overview\", index=False)\n",
    "writer.save()\n",
    "writer.close()"
   ]
  },
  {
   "cell_type": "markdown",
   "metadata": {},
   "source": [
    "### <a id=\"37ntf-c--part-2\"></a>Part 2"
   ]
  },
  {
   "cell_type": "code",
   "execution_count": 1,
   "metadata": {},
   "outputs": [],
   "source": [
    "import matplotlib, numpy, openpyxl, pandas\n",
    "from matplotlib import pyplot"
   ]
  },
  {
   "cell_type": "code",
   "execution_count": 2,
   "metadata": {},
   "outputs": [
    {
     "data": {
      "text/html": [
       "<div>\n",
       "<style scoped>\n",
       "    .dataframe tbody tr th:only-of-type {\n",
       "        vertical-align: middle;\n",
       "    }\n",
       "\n",
       "    .dataframe tbody tr th {\n",
       "        vertical-align: top;\n",
       "    }\n",
       "\n",
       "    .dataframe thead th {\n",
       "        text-align: right;\n",
       "    }\n",
       "</style>\n",
       "<table border=\"1\" class=\"dataframe\">\n",
       "  <thead>\n",
       "    <tr style=\"text-align: right;\">\n",
       "      <th></th>\n",
       "      <th>Consumer ID</th>\n",
       "      <th>kW</th>\n",
       "      <th>No. of appliances</th>\n",
       "      <th>No. of priority levels</th>\n",
       "    </tr>\n",
       "  </thead>\n",
       "  <tbody>\n",
       "    <tr>\n",
       "      <th>0</th>\n",
       "      <td>701-1</td>\n",
       "      <td>140</td>\n",
       "      <td>100</td>\n",
       "      <td>2</td>\n",
       "    </tr>\n",
       "    <tr>\n",
       "      <th>1</th>\n",
       "      <td>701-2</td>\n",
       "      <td>140</td>\n",
       "      <td>100</td>\n",
       "      <td>2</td>\n",
       "    </tr>\n",
       "    <tr>\n",
       "      <th>2</th>\n",
       "      <td>701-3</td>\n",
       "      <td>350</td>\n",
       "      <td>100</td>\n",
       "      <td>5</td>\n",
       "    </tr>\n",
       "    <tr>\n",
       "      <th>3</th>\n",
       "      <td>712-3</td>\n",
       "      <td>85</td>\n",
       "      <td>100</td>\n",
       "      <td>2</td>\n",
       "    </tr>\n",
       "    <tr>\n",
       "      <th>4</th>\n",
       "      <td>713-3</td>\n",
       "      <td>85</td>\n",
       "      <td>100</td>\n",
       "      <td>1</td>\n",
       "    </tr>\n",
       "  </tbody>\n",
       "</table>\n",
       "</div>"
      ],
      "text/plain": [
       "  Consumer ID   kW  No. of appliances  No. of priority levels\n",
       "0       701-1  140                100                       2\n",
       "1       701-2  140                100                       2\n",
       "2       701-3  350                100                       5\n",
       "3       712-3   85                100                       2\n",
       "4       713-3   85                100                       1"
      ]
     },
     "execution_count": 2,
     "metadata": {},
     "output_type": "execute_result"
    }
   ],
   "source": [
    "workbook_path = \"./37NTF-C.xlsx\"\n",
    "workbook = openpyxl.load_workbook(workbook_path)\n",
    "writer = pandas.ExcelWriter(workbook_path, engine=\"openpyxl\")\n",
    "writer.book = workbook\n",
    "\n",
    "IEEE_37NTF_df = pandas.read_excel(\"./37NTF-C.xlsx\", sheet_name=\"Overview\")\n",
    "IEEE_37NTF_df.head()"
   ]
  },
  {
   "cell_type": "code",
   "execution_count": 3,
   "metadata": {},
   "outputs": [],
   "source": [
    "# Partition consumer load into appliance ratings\n",
    "for i in IEEE_37NTF_df.index:\n",
    "    rand_points = numpy.random.uniform(0.05, 1.0, size=(IEEE_37NTF_df[\"No. of appliances\"][i]-1,))\n",
    "    # Just to make sure that no values are repeated\n",
    "    while not (rand_points.shape[0] == numpy.unique(rand_points).shape[0]):\n",
    "        rand_points = numpy.random.uniform(0.05, 1.0, size=(IEEE_37NTF_df[\"No. of appliances\"][i]-1,))\n",
    "    \n",
    "    rand_points.sort()\n",
    "    rand_points = numpy.append(numpy.array([0.0]), rand_points)\n",
    "    rand_points = numpy.append(rand_points, numpy.array([1.0]))\n",
    "    \n",
    "    # Appliance ratings\n",
    "    d_c = numpy.array([rand_points[i] - rand_points[i-1] for i in range(1,IEEE_37NTF_df[\"No. of appliances\"][i]+1)])\n",
    "    d_c = d_c * IEEE_37NTF_df[\"kW\"][i]\n",
    "    \n",
    "    # Round appliance ratings to 5 decimal places\n",
    "    d_c = numpy.around(d_c, decimals=5)\n",
    "        \n",
    "    # Just to make sure the sum of all appliance ratings equals the consumer rated load up to numerical precision\n",
    "    deficit = float(IEEE_37NTF_df[\"kW\"][i]) - numpy.sum(d_c)\n",
    "    index_slack_appliance = numpy.random.randint(0, IEEE_37NTF_df[\"No. of appliances\"][i])\n",
    "    d_c[index_slack_appliance] += deficit\n",
    "    \n",
    "    # Assign priority levels to the appliances\n",
    "    priority_levels = numpy.random.randint(1, IEEE_37NTF_df[\"No. of priority levels\"][i]+1, size=d_c.shape)\n",
    "    \n",
    "    # Group appliances according to priority levels\n",
    "    prioritized_d_c = []\n",
    "    for p in range(1, IEEE_37NTF_df[\"No. of priority levels\"][i]+1):\n",
    "        priority_level_masks = priority_levels == p\n",
    "        prioritized_d_c.append(d_c[priority_level_masks])\n",
    "    \n",
    "    # Construct dedicated DataFrame for a consumer\n",
    "    consumer_df = pandas.concat([\n",
    "        pandas.DataFrame({\"Priority level \"+str(p) : prioritized_d_c[p-1]}) \\\n",
    "        for p in range(1, IEEE_37NTF_df[\"No. of priority levels\"][i]+1)\n",
    "    ], axis=1)\n",
    "    \n",
    "    # Export consumer DataFrame as a dedicated sheet in spreadsheet\n",
    "    consumer_df.to_excel(writer, sheet_name=IEEE_37NTF_df[\"Consumer ID\"][i], index=False)"
   ]
  },
  {
   "cell_type": "code",
   "execution_count": 4,
   "metadata": {},
   "outputs": [],
   "source": [
    "# For record keeping (11 October 2020)\n",
    "\n",
    "writer.save()\n",
    "writer.close()"
   ]
  },
  {
   "cell_type": "markdown",
   "metadata": {},
   "source": [
    "---"
   ]
  },
  {
   "cell_type": "code",
   "execution_count": null,
   "metadata": {},
   "outputs": [],
   "source": []
  }
 ],
 "metadata": {
  "kernelspec": {
   "display_name": "Python 3",
   "language": "python",
   "name": "python3"
  },
  "language_info": {
   "codemirror_mode": {
    "name": "ipython",
    "version": 3
   },
   "file_extension": ".py",
   "mimetype": "text/x-python",
   "name": "python",
   "nbconvert_exporter": "python",
   "pygments_lexer": "ipython3",
   "version": "3.8.0"
  }
 },
 "nbformat": 4,
 "nbformat_minor": 4
}
