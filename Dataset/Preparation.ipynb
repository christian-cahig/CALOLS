{
 "cells": [
  {
   "cell_type": "markdown",
   "metadata": {},
   "source": [
    "# Dataset Preparation"
   ]
  },
  {
   "cell_type": "markdown",
   "metadata": {},
   "source": [
    "## <a id=\"contents\"></a>Contents\n",
    "- [Overview](#overview)\n",
    "- [37NTF-A](#37ntf-a)\n",
    "    - [Part 1](#37ntf-a--part-1)\n",
    "    - [Part 2](#37ntf-a--part-2)\n",
    "- [37NTF-B](#37ntf-b)\n",
    "    - [Part 1](#37ntf-b--part-1)\n",
    "    - [Part 2](#37ntf-b--part-2)\n",
    "- [37NTF-C](#37ntf-c)\n",
    "    - [Part 1](#37ntf-c--part-1)\n",
    "    - [Part 2](#37ntf-c--part-2)"
   ]
  },
  {
   "cell_type": "markdown",
   "metadata": {},
   "source": [
    "---"
   ]
  },
  {
   "cell_type": "markdown",
   "metadata": {},
   "source": [
    "## <a id=\"overview\"></a>Overview\n",
    "- based on IEEE 37-Node Test Feeder\n",
    "- downloaded from https://site.ieee.org/pes-testfeeders/resources/\n",
    "- see sheet `IEEE 37-Node Test Feeder` in `./Ported Load Values.xlsx`\n",
    "- Each phase of each load in the original system is treated as one consumer, provided that it has non-zero kilowatt (kW) value.\n",
    "For example, the load at node 742 with 8 kW at phase A-B and 85 kW at phase B-C\n",
    "is encoded as consumers with respective IDs 742-1 and 742-2 and respective loads 8 kW and 85 kW.\n",
    "- total of 32 consumers\n",
    "- only active power values are used\n",
    "- To assign power rating for each appliance in consumer $c$, the interval $[0,L_{c}]$ is mapped unto the interval $[0,1.0]$,\n",
    "wherein $N_{c} - 1$ points are sampled according to the uniform distribution $U [0.05,1.0)$.\n",
    "The lengths of the resulting $N_{c}$ sub-intervals are fractions of $L_{c}$ that are the ratings of the $N_{c}$ appliances.\n",
    "In principle, this means the appliance ratings add up to $L_{c}$.\n",
    "In practice, appliance ratings are rounded to 5 decimal places,\n",
    "and the deficit between $L_c$ and the sum of the appliance ratings is added to the rating of a randomly chosen appliance.\n",
    "- each appliance is given priority level drawn from $U_{\\text{d}} [1,P_{c}]$ where $P_{c}$ is the number of priority levels for consumer $c$\n",
    "- three datasets:\n",
    "    - 37NTF-A\n",
    "    - 37NTF-B\n",
    "    - 37NTF-C"
   ]
  },
  {
   "cell_type": "markdown",
   "metadata": {},
   "source": [
    "---"
   ]
  },
  {
   "cell_type": "markdown",
   "metadata": {},
   "source": [
    "## <a id=\"37ntf-a\"></a>37NTF-A\n",
    "- all consumers have $N_{c} = 100$ appliances\n",
    "- all consumers have $P_{c} = 5$ priority levels\n",
    "- saved in `./37NTF-A.xlsx`\n",
    "- consumer IDs and their respective kW, no. of appliances, and no. of priority levels are in the sheet named `Overview`\n",
    "- appliance ratings (in kW) and priority levels of each consumer are saved in a dedicated sheet named according to consumer IDs"
   ]
  },
  {
   "cell_type": "markdown",
   "metadata": {},
   "source": [
    "### <a id=\"37ntf-a--part-1\"></a>Part 1"
   ]
  },
  {
   "cell_type": "code",
   "execution_count": 1,
   "metadata": {
    "jupyter": {
     "source_hidden": true
    }
   },
   "outputs": [],
   "source": [
    "import matplotlib, numpy, openpyxl, pandas"
   ]
  },
  {
   "cell_type": "code",
   "execution_count": 2,
   "metadata": {
    "jupyter": {
     "source_hidden": true
    }
   },
   "outputs": [],
   "source": [
    "P_c = 5\n",
    "M_c_per_consumer = 100"
   ]
  },
  {
   "cell_type": "code",
   "execution_count": 3,
   "metadata": {
    "jupyter": {
     "source_hidden": true
    }
   },
   "outputs": [],
   "source": [
    "# Raw ported values\n",
    "IEEE_37NTF_df = pandas.read_excel(\"./Ported Load Values.xlsx\", sheet_name=\"IEEE 37-Node Test Feeder\")"
   ]
  },
  {
   "cell_type": "code",
   "execution_count": 4,
   "metadata": {
    "jupyter": {
     "source_hidden": true
    }
   },
   "outputs": [],
   "source": [
    "# Remove kVAr info\n",
    "IEEE_37NTF_df = IEEE_37NTF_df.drop(columns=[\"kVAr\"])"
   ]
  },
  {
   "cell_type": "code",
   "execution_count": 5,
   "metadata": {
    "jupyter": {
     "source_hidden": true
    }
   },
   "outputs": [],
   "source": [
    "# Get consumer kW\n",
    "L_c = IEEE_37NTF_df[\"kW\"].to_numpy(dtype=numpy.float32)"
   ]
  },
  {
   "cell_type": "code",
   "execution_count": 6,
   "metadata": {
    "jupyter": {
     "source_hidden": true
    }
   },
   "outputs": [],
   "source": [
    "# No. of appliances in each consumer\n",
    "M_c = numpy.zeros(L_c.shape) + M_c_per_consumer\n",
    "\n",
    "IEEE_37NTF_df[\"No. of appliances\"] = M_c.astype(numpy.int64)"
   ]
  },
  {
   "cell_type": "code",
   "execution_count": 7,
   "metadata": {
    "jupyter": {
     "source_hidden": true
    }
   },
   "outputs": [],
   "source": [
    "# Add no. of priority levels for each consumer\n",
    "IEEE_37NTF_df[\"No. of priority levels\"] = numpy.array([P_c for i in range(len(IEEE_37NTF_df[\"Consumer ID\"]))])"
   ]
  },
  {
   "cell_type": "code",
   "execution_count": 8,
   "metadata": {
    "collapsed": true,
    "jupyter": {
     "outputs_hidden": true,
     "source_hidden": true
    }
   },
   "outputs": [
    {
     "data": {
      "text/html": [
       "<div>\n",
       "<style scoped>\n",
       "    .dataframe tbody tr th:only-of-type {\n",
       "        vertical-align: middle;\n",
       "    }\n",
       "\n",
       "    .dataframe tbody tr th {\n",
       "        vertical-align: top;\n",
       "    }\n",
       "\n",
       "    .dataframe thead th {\n",
       "        text-align: right;\n",
       "    }\n",
       "</style>\n",
       "<table border=\"1\" class=\"dataframe\">\n",
       "  <thead>\n",
       "    <tr style=\"text-align: right;\">\n",
       "      <th></th>\n",
       "      <th>Consumer ID</th>\n",
       "      <th>kW</th>\n",
       "      <th>No. of appliances</th>\n",
       "      <th>No. of priority levels</th>\n",
       "    </tr>\n",
       "  </thead>\n",
       "  <tbody>\n",
       "    <tr>\n",
       "      <th>0</th>\n",
       "      <td>701-1</td>\n",
       "      <td>140</td>\n",
       "      <td>100</td>\n",
       "      <td>5</td>\n",
       "    </tr>\n",
       "    <tr>\n",
       "      <th>1</th>\n",
       "      <td>701-2</td>\n",
       "      <td>140</td>\n",
       "      <td>100</td>\n",
       "      <td>5</td>\n",
       "    </tr>\n",
       "    <tr>\n",
       "      <th>2</th>\n",
       "      <td>701-3</td>\n",
       "      <td>350</td>\n",
       "      <td>100</td>\n",
       "      <td>5</td>\n",
       "    </tr>\n",
       "    <tr>\n",
       "      <th>3</th>\n",
       "      <td>712-3</td>\n",
       "      <td>85</td>\n",
       "      <td>100</td>\n",
       "      <td>5</td>\n",
       "    </tr>\n",
       "    <tr>\n",
       "      <th>4</th>\n",
       "      <td>713-3</td>\n",
       "      <td>85</td>\n",
       "      <td>100</td>\n",
       "      <td>5</td>\n",
       "    </tr>\n",
       "  </tbody>\n",
       "</table>\n",
       "</div>"
      ],
      "text/plain": [
       "  Consumer ID   kW  No. of appliances  No. of priority levels\n",
       "0       701-1  140                100                       5\n",
       "1       701-2  140                100                       5\n",
       "2       701-3  350                100                       5\n",
       "3       712-3   85                100                       5\n",
       "4       713-3   85                100                       5"
      ]
     },
     "execution_count": 8,
     "metadata": {},
     "output_type": "execute_result"
    }
   ],
   "source": [
    "IEEE_37NTF_df.head()"
   ]
  },
  {
   "cell_type": "code",
   "execution_count": 9,
   "metadata": {
    "jupyter": {
     "source_hidden": true
    }
   },
   "outputs": [],
   "source": [
    "# For record keeping (08 October 2020)\n",
    "workbook_path = \"./37NTF-A.xlsx\"\n",
    "writer = pandas.ExcelWriter(workbook_path, engine=\"openpyxl\")\n",
    "\n",
    "IEEE_37NTF_df.to_excel(writer, sheet_name=\"Overview\", index=False)\n",
    "writer.save()\n",
    "writer.close()"
   ]
  },
  {
   "cell_type": "markdown",
   "metadata": {},
   "source": [
    "### <a id=\"37ntf-a--part-2\"></a>Part 2"
   ]
  },
  {
   "cell_type": "code",
   "execution_count": 1,
   "metadata": {
    "jupyter": {
     "source_hidden": true
    }
   },
   "outputs": [],
   "source": [
    "import matplotlib, numpy, openpyxl, pandas\n",
    "from matplotlib import pyplot"
   ]
  },
  {
   "cell_type": "code",
   "execution_count": 2,
   "metadata": {
    "collapsed": true,
    "jupyter": {
     "outputs_hidden": true,
     "source_hidden": true
    }
   },
   "outputs": [
    {
     "data": {
      "text/html": [
       "<div>\n",
       "<style scoped>\n",
       "    .dataframe tbody tr th:only-of-type {\n",
       "        vertical-align: middle;\n",
       "    }\n",
       "\n",
       "    .dataframe tbody tr th {\n",
       "        vertical-align: top;\n",
       "    }\n",
       "\n",
       "    .dataframe thead th {\n",
       "        text-align: right;\n",
       "    }\n",
       "</style>\n",
       "<table border=\"1\" class=\"dataframe\">\n",
       "  <thead>\n",
       "    <tr style=\"text-align: right;\">\n",
       "      <th></th>\n",
       "      <th>Consumer ID</th>\n",
       "      <th>kW</th>\n",
       "      <th>No. of appliances</th>\n",
       "      <th>No. of priority levels</th>\n",
       "    </tr>\n",
       "  </thead>\n",
       "  <tbody>\n",
       "    <tr>\n",
       "      <th>0</th>\n",
       "      <td>701-1</td>\n",
       "      <td>140</td>\n",
       "      <td>100</td>\n",
       "      <td>5</td>\n",
       "    </tr>\n",
       "    <tr>\n",
       "      <th>1</th>\n",
       "      <td>701-2</td>\n",
       "      <td>140</td>\n",
       "      <td>100</td>\n",
       "      <td>5</td>\n",
       "    </tr>\n",
       "    <tr>\n",
       "      <th>2</th>\n",
       "      <td>701-3</td>\n",
       "      <td>350</td>\n",
       "      <td>100</td>\n",
       "      <td>5</td>\n",
       "    </tr>\n",
       "    <tr>\n",
       "      <th>3</th>\n",
       "      <td>712-3</td>\n",
       "      <td>85</td>\n",
       "      <td>100</td>\n",
       "      <td>5</td>\n",
       "    </tr>\n",
       "    <tr>\n",
       "      <th>4</th>\n",
       "      <td>713-3</td>\n",
       "      <td>85</td>\n",
       "      <td>100</td>\n",
       "      <td>5</td>\n",
       "    </tr>\n",
       "  </tbody>\n",
       "</table>\n",
       "</div>"
      ],
      "text/plain": [
       "  Consumer ID   kW  No. of appliances  No. of priority levels\n",
       "0       701-1  140                100                       5\n",
       "1       701-2  140                100                       5\n",
       "2       701-3  350                100                       5\n",
       "3       712-3   85                100                       5\n",
       "4       713-3   85                100                       5"
      ]
     },
     "execution_count": 2,
     "metadata": {},
     "output_type": "execute_result"
    }
   ],
   "source": [
    "workbook_path = \"./37NTF-A.xlsx\"\n",
    "workbook = openpyxl.load_workbook(workbook_path)\n",
    "writer = pandas.ExcelWriter(workbook_path, engine=\"openpyxl\")\n",
    "writer.book = workbook\n",
    "\n",
    "IEEE_37NTF_df = pandas.read_excel(\"./37NTF-A.xlsx\", sheet_name=\"Overview\")\n",
    "IEEE_37NTF_df.head()"
   ]
  },
  {
   "cell_type": "code",
   "execution_count": 3,
   "metadata": {
    "jupyter": {
     "source_hidden": true
    }
   },
   "outputs": [],
   "source": [
    "# Partition consumer load into appliance ratings\n",
    "for i in IEEE_37NTF_df.index:\n",
    "    rand_points = numpy.random.uniform(0.05, 1.0, size=(IEEE_37NTF_df[\"No. of appliances\"][i]-1,))\n",
    "    # Just to make sure that no values are repeated\n",
    "    while not (rand_points.shape[0] == numpy.unique(rand_points).shape[0]):\n",
    "        rand_points = numpy.random.uniform(0.05, 1.0, size=(IEEE_37NTF_df[\"No. of appliances\"][i]-1,))\n",
    "    \n",
    "    rand_points.sort()\n",
    "    rand_points = numpy.append(numpy.array([0.0]), rand_points)\n",
    "    rand_points = numpy.append(rand_points, numpy.array([1.0]))\n",
    "    \n",
    "    # Appliance ratings\n",
    "    d_c = numpy.array([rand_points[i] - rand_points[i-1] for i in range(1,IEEE_37NTF_df[\"No. of appliances\"][i]+1)])\n",
    "    d_c = d_c * IEEE_37NTF_df[\"kW\"][i]\n",
    "    \n",
    "    # Round appliance ratings to 5 decimal places\n",
    "    d_c = numpy.around(d_c, decimals=5)\n",
    "        \n",
    "    # Just to make sure the sum of all appliance ratings equals the consumer rated load up to numerical precision\n",
    "    deficit = float(IEEE_37NTF_df[\"kW\"][i]) - numpy.sum(d_c)\n",
    "    index_slack_appliance = numpy.random.randint(0, IEEE_37NTF_df[\"No. of appliances\"][i])\n",
    "    d_c[index_slack_appliance] += deficit\n",
    "    \n",
    "    # Assign priority levels to the appliances\n",
    "    priority_levels = numpy.random.randint(1, IEEE_37NTF_df[\"No. of priority levels\"][i]+1, size=d_c.shape)\n",
    "    \n",
    "    # Group appliances according to priority levels\n",
    "    prioritized_d_c = []\n",
    "    for p in range(1, IEEE_37NTF_df[\"No. of priority levels\"][i]+1):\n",
    "        priority_level_masks = priority_levels == p\n",
    "        prioritized_d_c.append(d_c[priority_level_masks])\n",
    "    \n",
    "    # Construct dedicated DataFrame for a consumer\n",
    "    consumer_df = pandas.concat([\n",
    "        pandas.DataFrame({\"Priority level \"+str(p) : prioritized_d_c[p-1]}) \\\n",
    "        for p in range(1, IEEE_37NTF_df[\"No. of priority levels\"][i]+1)\n",
    "    ], axis=1)\n",
    "    \n",
    "    # Export consumer DataFrame as a dedicated sheet in spreadsheet\n",
    "    consumer_df.to_excel(writer, sheet_name=IEEE_37NTF_df[\"Consumer ID\"][i], index=False)"
   ]
  },
  {
   "cell_type": "code",
   "execution_count": 4,
   "metadata": {
    "jupyter": {
     "source_hidden": true
    }
   },
   "outputs": [],
   "source": [
    "# For record keeping (08 October 2020)\n",
    "\n",
    "writer.save()\n",
    "writer.close()"
   ]
  },
  {
   "cell_type": "markdown",
   "metadata": {},
   "source": [
    "---"
   ]
  },
  {
   "cell_type": "markdown",
   "metadata": {},
   "source": [
    "## <a id=\"37ntf-b\"></a>37NTF-B\n",
    "- consumer with largest kW value $L_{\\max}$ is given $N_{\\max} = 100$ appliances\n",
    "- any other consumer $c$ with kW value $L_{c}$ is given $N_{c} = \\text{floor} \\left(\\frac{L_{c}}{L_{\\max}} N_{\\max}\\right) + U_{\\text{d}} [10,20]$,\n",
    "where $\\text{floor}$ is the floor function\n",
    "and $U_{\\text{d}} [10,20]$ is a discrete uniform distribution from the interval $[10,20]$\n",
    "- all consumers have $P_{c} = 5$ priority levels\n",
    "- saved in `./37NTF-B.xlsx`\n",
    "- consumer IDs and their respective kW, no. of appliances, and no. of priority levels are in the sheet named `Overview`\n",
    "- appliance ratings (in kW) and priority levels of each consumer are saved in a dedicated sheet named according to consumer IDs"
   ]
  },
  {
   "cell_type": "markdown",
   "metadata": {},
   "source": [
    "### <a id=\"37ntf-b--part-1\"></a>Part 1"
   ]
  },
  {
   "cell_type": "code",
   "execution_count": 1,
   "metadata": {
    "jupyter": {
     "source_hidden": true
    }
   },
   "outputs": [],
   "source": [
    "import matplotlib, numpy, openpyxl, pandas"
   ]
  },
  {
   "cell_type": "code",
   "execution_count": 2,
   "metadata": {
    "jupyter": {
     "source_hidden": true
    }
   },
   "outputs": [],
   "source": [
    "M_max = 100\n",
    "P_c = 5"
   ]
  },
  {
   "cell_type": "code",
   "execution_count": 3,
   "metadata": {
    "jupyter": {
     "source_hidden": true
    }
   },
   "outputs": [],
   "source": [
    "# Raw ported values\n",
    "IEEE_37NTF_df = pandas.read_excel(\"./Ported Load Values.xlsx\", sheet_name=\"IEEE 37-Node Test Feeder\")"
   ]
  },
  {
   "cell_type": "code",
   "execution_count": 4,
   "metadata": {
    "jupyter": {
     "source_hidden": true
    }
   },
   "outputs": [],
   "source": [
    "# Remove kVAr info\n",
    "IEEE_37NTF_df = IEEE_37NTF_df.drop(columns=[\"kVAr\"])"
   ]
  },
  {
   "cell_type": "code",
   "execution_count": 5,
   "metadata": {
    "jupyter": {
     "source_hidden": true
    }
   },
   "outputs": [],
   "source": [
    "# Get consumer kW\n",
    "L_c = IEEE_37NTF_df[\"kW\"].to_numpy(dtype=numpy.float32)\n",
    "L_max, index_L_max = L_c.max(), L_c.argmax()"
   ]
  },
  {
   "cell_type": "code",
   "execution_count": 6,
   "metadata": {
    "jupyter": {
     "source_hidden": true
    }
   },
   "outputs": [],
   "source": [
    "# No. of appliances in each consumer\n",
    "M_c = numpy.floor(M_max * L_c / L_max).astype(numpy.int64) + numpy.random.randint(10,20,L_c.shape)\n",
    "M_c[index_L_max] = M_max\n",
    "\n",
    "IEEE_37NTF_df[\"No. of appliances\"] = M_c"
   ]
  },
  {
   "cell_type": "code",
   "execution_count": 7,
   "metadata": {
    "jupyter": {
     "source_hidden": true
    }
   },
   "outputs": [],
   "source": [
    "# Add no. of priority levels for each consumer\n",
    "IEEE_37NTF_df[\"No. of priority levels\"] = numpy.array([P_c for i in range(len(IEEE_37NTF_df[\"Consumer ID\"]))])"
   ]
  },
  {
   "cell_type": "code",
   "execution_count": 8,
   "metadata": {
    "collapsed": true,
    "jupyter": {
     "outputs_hidden": true,
     "source_hidden": true
    }
   },
   "outputs": [
    {
     "data": {
      "text/html": [
       "<div>\n",
       "<style scoped>\n",
       "    .dataframe tbody tr th:only-of-type {\n",
       "        vertical-align: middle;\n",
       "    }\n",
       "\n",
       "    .dataframe tbody tr th {\n",
       "        vertical-align: top;\n",
       "    }\n",
       "\n",
       "    .dataframe thead th {\n",
       "        text-align: right;\n",
       "    }\n",
       "</style>\n",
       "<table border=\"1\" class=\"dataframe\">\n",
       "  <thead>\n",
       "    <tr style=\"text-align: right;\">\n",
       "      <th></th>\n",
       "      <th>Consumer ID</th>\n",
       "      <th>kW</th>\n",
       "      <th>No. of appliances</th>\n",
       "      <th>No. of priority levels</th>\n",
       "    </tr>\n",
       "  </thead>\n",
       "  <tbody>\n",
       "    <tr>\n",
       "      <th>0</th>\n",
       "      <td>701-1</td>\n",
       "      <td>140</td>\n",
       "      <td>53</td>\n",
       "      <td>5</td>\n",
       "    </tr>\n",
       "    <tr>\n",
       "      <th>1</th>\n",
       "      <td>701-2</td>\n",
       "      <td>140</td>\n",
       "      <td>58</td>\n",
       "      <td>5</td>\n",
       "    </tr>\n",
       "    <tr>\n",
       "      <th>2</th>\n",
       "      <td>701-3</td>\n",
       "      <td>350</td>\n",
       "      <td>100</td>\n",
       "      <td>5</td>\n",
       "    </tr>\n",
       "    <tr>\n",
       "      <th>3</th>\n",
       "      <td>712-3</td>\n",
       "      <td>85</td>\n",
       "      <td>42</td>\n",
       "      <td>5</td>\n",
       "    </tr>\n",
       "    <tr>\n",
       "      <th>4</th>\n",
       "      <td>713-3</td>\n",
       "      <td>85</td>\n",
       "      <td>39</td>\n",
       "      <td>5</td>\n",
       "    </tr>\n",
       "  </tbody>\n",
       "</table>\n",
       "</div>"
      ],
      "text/plain": [
       "  Consumer ID   kW  No. of appliances  No. of priority levels\n",
       "0       701-1  140                 53                       5\n",
       "1       701-2  140                 58                       5\n",
       "2       701-3  350                100                       5\n",
       "3       712-3   85                 42                       5\n",
       "4       713-3   85                 39                       5"
      ]
     },
     "execution_count": 8,
     "metadata": {},
     "output_type": "execute_result"
    }
   ],
   "source": [
    "IEEE_37NTF_df.head()"
   ]
  },
  {
   "cell_type": "code",
   "execution_count": 9,
   "metadata": {
    "jupyter": {
     "source_hidden": true
    }
   },
   "outputs": [],
   "source": [
    "# For record keeping (08 October 2020)\n",
    "workbook_path = \"./37NTF-B.xlsx\"\n",
    "writer = pandas.ExcelWriter(workbook_path, engine=\"openpyxl\")\n",
    "\n",
    "IEEE_37NTF_df.to_excel(writer, sheet_name=\"Overview\", index=False)\n",
    "writer.save()\n",
    "writer.close()"
   ]
  },
  {
   "cell_type": "markdown",
   "metadata": {},
   "source": [
    "### <a id=\"37ntf-b--part-2\"></a>Part 2"
   ]
  },
  {
   "cell_type": "code",
   "execution_count": 1,
   "metadata": {
    "jupyter": {
     "source_hidden": true
    }
   },
   "outputs": [],
   "source": [
    "import matplotlib, numpy, openpyxl, pandas\n",
    "from matplotlib import pyplot"
   ]
  },
  {
   "cell_type": "code",
   "execution_count": 2,
   "metadata": {
    "collapsed": true,
    "jupyter": {
     "outputs_hidden": true,
     "source_hidden": true
    }
   },
   "outputs": [
    {
     "data": {
      "text/html": [
       "<div>\n",
       "<style scoped>\n",
       "    .dataframe tbody tr th:only-of-type {\n",
       "        vertical-align: middle;\n",
       "    }\n",
       "\n",
       "    .dataframe tbody tr th {\n",
       "        vertical-align: top;\n",
       "    }\n",
       "\n",
       "    .dataframe thead th {\n",
       "        text-align: right;\n",
       "    }\n",
       "</style>\n",
       "<table border=\"1\" class=\"dataframe\">\n",
       "  <thead>\n",
       "    <tr style=\"text-align: right;\">\n",
       "      <th></th>\n",
       "      <th>Consumer ID</th>\n",
       "      <th>kW</th>\n",
       "      <th>No. of appliances</th>\n",
       "      <th>No. of priority levels</th>\n",
       "    </tr>\n",
       "  </thead>\n",
       "  <tbody>\n",
       "    <tr>\n",
       "      <th>0</th>\n",
       "      <td>701-1</td>\n",
       "      <td>140</td>\n",
       "      <td>53</td>\n",
       "      <td>5</td>\n",
       "    </tr>\n",
       "    <tr>\n",
       "      <th>1</th>\n",
       "      <td>701-2</td>\n",
       "      <td>140</td>\n",
       "      <td>58</td>\n",
       "      <td>5</td>\n",
       "    </tr>\n",
       "    <tr>\n",
       "      <th>2</th>\n",
       "      <td>701-3</td>\n",
       "      <td>350</td>\n",
       "      <td>100</td>\n",
       "      <td>5</td>\n",
       "    </tr>\n",
       "    <tr>\n",
       "      <th>3</th>\n",
       "      <td>712-3</td>\n",
       "      <td>85</td>\n",
       "      <td>42</td>\n",
       "      <td>5</td>\n",
       "    </tr>\n",
       "    <tr>\n",
       "      <th>4</th>\n",
       "      <td>713-3</td>\n",
       "      <td>85</td>\n",
       "      <td>39</td>\n",
       "      <td>5</td>\n",
       "    </tr>\n",
       "  </tbody>\n",
       "</table>\n",
       "</div>"
      ],
      "text/plain": [
       "  Consumer ID   kW  No. of appliances  No. of priority levels\n",
       "0       701-1  140                 53                       5\n",
       "1       701-2  140                 58                       5\n",
       "2       701-3  350                100                       5\n",
       "3       712-3   85                 42                       5\n",
       "4       713-3   85                 39                       5"
      ]
     },
     "execution_count": 2,
     "metadata": {},
     "output_type": "execute_result"
    }
   ],
   "source": [
    "workbook_path = \"./37NTF-B.xlsx\"\n",
    "workbook = openpyxl.load_workbook(workbook_path)\n",
    "writer = pandas.ExcelWriter(workbook_path, engine=\"openpyxl\")\n",
    "writer.book = workbook\n",
    "\n",
    "IEEE_37NTF_df = pandas.read_excel(\"./37NTF-B.xlsx\", sheet_name=\"Overview\")\n",
    "IEEE_37NTF_df.head()"
   ]
  },
  {
   "cell_type": "code",
   "execution_count": 3,
   "metadata": {
    "jupyter": {
     "source_hidden": true
    },
    "scrolled": true
   },
   "outputs": [],
   "source": [
    "# Partition consumer load into appliance ratings\n",
    "for i in IEEE_37NTF_df.index:\n",
    "    rand_points = numpy.random.uniform(0.05, 1.0, size=(IEEE_37NTF_df[\"No. of appliances\"][i]-1,))\n",
    "    # Just to make sure that no values are repeated\n",
    "    while not (rand_points.shape[0] == numpy.unique(rand_points).shape[0]):\n",
    "        rand_points = numpy.random.uniform(0.05, 1.0, size=(IEEE_37NTF_df[\"No. of appliances\"][i]-1,))\n",
    "    \n",
    "    rand_points.sort()\n",
    "    rand_points = numpy.append(numpy.array([0.0]), rand_points)\n",
    "    rand_points = numpy.append(rand_points, numpy.array([1.0]))\n",
    "    \n",
    "    # Appliance ratings\n",
    "    d_c = numpy.array([rand_points[i] - rand_points[i-1] for i in range(1,IEEE_37NTF_df[\"No. of appliances\"][i]+1)])\n",
    "    d_c = d_c * IEEE_37NTF_df[\"kW\"][i]\n",
    "    \n",
    "    # Round appliance ratings to 5 decimal places\n",
    "    d_c = numpy.around(d_c, decimals=5)\n",
    "        \n",
    "    # Just to make sure the sum of all appliance ratings equals the consumer rated load up to numerical precision\n",
    "    deficit = float(IEEE_37NTF_df[\"kW\"][i]) - numpy.sum(d_c)\n",
    "    index_slack_appliance = numpy.random.randint(0, IEEE_37NTF_df[\"No. of appliances\"][i])\n",
    "    d_c[index_slack_appliance] += deficit\n",
    "    \n",
    "    # Assign priority levels to the appliances\n",
    "    priority_levels = numpy.random.randint(1, IEEE_37NTF_df[\"No. of priority levels\"][i]+1, size=d_c.shape)\n",
    "    \n",
    "    # Group appliances according to priority levels\n",
    "    prioritized_d_c = []\n",
    "    for p in range(1, IEEE_37NTF_df[\"No. of priority levels\"][i]+1):\n",
    "        priority_level_masks = priority_levels == p\n",
    "        prioritized_d_c.append(d_c[priority_level_masks])\n",
    "    \n",
    "    # Construct dedicated DataFrame for a consumer\n",
    "    consumer_df = pandas.concat([\n",
    "        pandas.DataFrame({\"Priority level \"+str(p) : prioritized_d_c[p-1]}) \\\n",
    "        for p in range(1, IEEE_37NTF_df[\"No. of priority levels\"][i]+1)\n",
    "    ], axis=1)\n",
    "    \n",
    "    # Export consumer DataFrame as a dedicated sheet in spreadsheet\n",
    "    consumer_df.to_excel(writer, sheet_name=IEEE_37NTF_df[\"Consumer ID\"][i], index=False)"
   ]
  },
  {
   "cell_type": "code",
   "execution_count": 4,
   "metadata": {
    "jupyter": {
     "source_hidden": true
    }
   },
   "outputs": [],
   "source": [
    "# For record keeping (08 October 2020)\n",
    "\n",
    "writer.save()\n",
    "writer.close()"
   ]
  },
  {
   "cell_type": "markdown",
   "metadata": {},
   "source": [
    "---"
   ]
  },
  {
   "cell_type": "markdown",
   "metadata": {},
   "source": [
    "## <a id=\"37ntf-c\"></a>37NTF-C\n",
    "- all consumers have $N_{c} = 100$ appliances\n",
    "- a consumer has $P_{c} = U_{\\text{d}} [1,5]$ priority levels\n",
    "- saved in `./37NTF-C.xlsx`\n",
    "- consumer IDs and their respective kW, no. of appliances, and no. of priority levels are in the sheet named `Overview`\n",
    "- appliance ratings (in kW) and priority levels of each consumer are saved in a dedicated sheet named according to consumer IDs"
   ]
  },
  {
   "cell_type": "markdown",
   "metadata": {},
   "source": [
    "### <a id=\"37ntf-c--part-1\"></a>Part 1"
   ]
  },
  {
   "cell_type": "code",
   "execution_count": 1,
   "metadata": {
    "jupyter": {
     "source_hidden": true
    }
   },
   "outputs": [],
   "source": [
    "import matplotlib, numpy, openpyxl, pandas"
   ]
  },
  {
   "cell_type": "code",
   "execution_count": 2,
   "metadata": {
    "jupyter": {
     "source_hidden": true
    }
   },
   "outputs": [],
   "source": [
    "M_c_per_consumer = 100"
   ]
  },
  {
   "cell_type": "code",
   "execution_count": 3,
   "metadata": {
    "jupyter": {
     "source_hidden": true
    }
   },
   "outputs": [],
   "source": [
    "# Raw ported values\n",
    "IEEE_37NTF_df = pandas.read_excel(\"./Ported Load Values.xlsx\", sheet_name=\"IEEE 37-Node Test Feeder\")"
   ]
  },
  {
   "cell_type": "code",
   "execution_count": 4,
   "metadata": {
    "jupyter": {
     "source_hidden": true
    }
   },
   "outputs": [],
   "source": [
    "# Remove kVAr info\n",
    "IEEE_37NTF_df = IEEE_37NTF_df.drop(columns=[\"kVAr\"])"
   ]
  },
  {
   "cell_type": "code",
   "execution_count": 5,
   "metadata": {
    "jupyter": {
     "source_hidden": true
    }
   },
   "outputs": [],
   "source": [
    "# Get consumer kW\n",
    "L_c = IEEE_37NTF_df[\"kW\"].to_numpy(dtype=numpy.float32)"
   ]
  },
  {
   "cell_type": "code",
   "execution_count": 6,
   "metadata": {
    "jupyter": {
     "source_hidden": true
    }
   },
   "outputs": [],
   "source": [
    "# No. of appliances in each consumer\n",
    "M_c = numpy.zeros(L_c.shape) + M_c_per_consumer\n",
    "\n",
    "IEEE_37NTF_df[\"No. of appliances\"] = M_c.astype(numpy.int64)"
   ]
  },
  {
   "cell_type": "code",
   "execution_count": 7,
   "metadata": {
    "jupyter": {
     "source_hidden": true
    }
   },
   "outputs": [],
   "source": [
    "# Add no. of priority levels for each consumer\n",
    "IEEE_37NTF_df[\"No. of priority levels\"] = numpy.random.randint(1,6,(len(IEEE_37NTF_df[\"Consumer ID\"]),))"
   ]
  },
  {
   "cell_type": "code",
   "execution_count": 8,
   "metadata": {
    "collapsed": true,
    "jupyter": {
     "outputs_hidden": true,
     "source_hidden": true
    }
   },
   "outputs": [
    {
     "data": {
      "text/html": [
       "<div>\n",
       "<style scoped>\n",
       "    .dataframe tbody tr th:only-of-type {\n",
       "        vertical-align: middle;\n",
       "    }\n",
       "\n",
       "    .dataframe tbody tr th {\n",
       "        vertical-align: top;\n",
       "    }\n",
       "\n",
       "    .dataframe thead th {\n",
       "        text-align: right;\n",
       "    }\n",
       "</style>\n",
       "<table border=\"1\" class=\"dataframe\">\n",
       "  <thead>\n",
       "    <tr style=\"text-align: right;\">\n",
       "      <th></th>\n",
       "      <th>Consumer ID</th>\n",
       "      <th>kW</th>\n",
       "      <th>No. of appliances</th>\n",
       "      <th>No. of priority levels</th>\n",
       "    </tr>\n",
       "  </thead>\n",
       "  <tbody>\n",
       "    <tr>\n",
       "      <th>0</th>\n",
       "      <td>701-1</td>\n",
       "      <td>140</td>\n",
       "      <td>100</td>\n",
       "      <td>2</td>\n",
       "    </tr>\n",
       "    <tr>\n",
       "      <th>1</th>\n",
       "      <td>701-2</td>\n",
       "      <td>140</td>\n",
       "      <td>100</td>\n",
       "      <td>2</td>\n",
       "    </tr>\n",
       "    <tr>\n",
       "      <th>2</th>\n",
       "      <td>701-3</td>\n",
       "      <td>350</td>\n",
       "      <td>100</td>\n",
       "      <td>5</td>\n",
       "    </tr>\n",
       "    <tr>\n",
       "      <th>3</th>\n",
       "      <td>712-3</td>\n",
       "      <td>85</td>\n",
       "      <td>100</td>\n",
       "      <td>2</td>\n",
       "    </tr>\n",
       "    <tr>\n",
       "      <th>4</th>\n",
       "      <td>713-3</td>\n",
       "      <td>85</td>\n",
       "      <td>100</td>\n",
       "      <td>1</td>\n",
       "    </tr>\n",
       "  </tbody>\n",
       "</table>\n",
       "</div>"
      ],
      "text/plain": [
       "  Consumer ID   kW  No. of appliances  No. of priority levels\n",
       "0       701-1  140                100                       2\n",
       "1       701-2  140                100                       2\n",
       "2       701-3  350                100                       5\n",
       "3       712-3   85                100                       2\n",
       "4       713-3   85                100                       1"
      ]
     },
     "execution_count": 8,
     "metadata": {},
     "output_type": "execute_result"
    }
   ],
   "source": [
    "IEEE_37NTF_df.head()"
   ]
  },
  {
   "cell_type": "code",
   "execution_count": 9,
   "metadata": {
    "jupyter": {
     "source_hidden": true
    }
   },
   "outputs": [],
   "source": [
    "# For record keeping (11 October 2020)\n",
    "workbook_path = \"./37NTF-C.xlsx\"\n",
    "writer = pandas.ExcelWriter(workbook_path, engine=\"openpyxl\")\n",
    "\n",
    "IEEE_37NTF_df.to_excel(writer, sheet_name=\"Overview\", index=False)\n",
    "writer.save()\n",
    "writer.close()"
   ]
  },
  {
   "cell_type": "markdown",
   "metadata": {},
   "source": [
    "### <a id=\"37ntf-c--part-2\"></a>Part 2"
   ]
  },
  {
   "cell_type": "code",
   "execution_count": 1,
   "metadata": {
    "jupyter": {
     "source_hidden": true
    }
   },
   "outputs": [],
   "source": [
    "import matplotlib, numpy, openpyxl, pandas\n",
    "from matplotlib import pyplot"
   ]
  },
  {
   "cell_type": "code",
   "execution_count": 2,
   "metadata": {
    "collapsed": true,
    "jupyter": {
     "outputs_hidden": true,
     "source_hidden": true
    }
   },
   "outputs": [
    {
     "data": {
      "text/html": [
       "<div>\n",
       "<style scoped>\n",
       "    .dataframe tbody tr th:only-of-type {\n",
       "        vertical-align: middle;\n",
       "    }\n",
       "\n",
       "    .dataframe tbody tr th {\n",
       "        vertical-align: top;\n",
       "    }\n",
       "\n",
       "    .dataframe thead th {\n",
       "        text-align: right;\n",
       "    }\n",
       "</style>\n",
       "<table border=\"1\" class=\"dataframe\">\n",
       "  <thead>\n",
       "    <tr style=\"text-align: right;\">\n",
       "      <th></th>\n",
       "      <th>Consumer ID</th>\n",
       "      <th>kW</th>\n",
       "      <th>No. of appliances</th>\n",
       "      <th>No. of priority levels</th>\n",
       "    </tr>\n",
       "  </thead>\n",
       "  <tbody>\n",
       "    <tr>\n",
       "      <th>0</th>\n",
       "      <td>701-1</td>\n",
       "      <td>140</td>\n",
       "      <td>100</td>\n",
       "      <td>2</td>\n",
       "    </tr>\n",
       "    <tr>\n",
       "      <th>1</th>\n",
       "      <td>701-2</td>\n",
       "      <td>140</td>\n",
       "      <td>100</td>\n",
       "      <td>2</td>\n",
       "    </tr>\n",
       "    <tr>\n",
       "      <th>2</th>\n",
       "      <td>701-3</td>\n",
       "      <td>350</td>\n",
       "      <td>100</td>\n",
       "      <td>5</td>\n",
       "    </tr>\n",
       "    <tr>\n",
       "      <th>3</th>\n",
       "      <td>712-3</td>\n",
       "      <td>85</td>\n",
       "      <td>100</td>\n",
       "      <td>2</td>\n",
       "    </tr>\n",
       "    <tr>\n",
       "      <th>4</th>\n",
       "      <td>713-3</td>\n",
       "      <td>85</td>\n",
       "      <td>100</td>\n",
       "      <td>1</td>\n",
       "    </tr>\n",
       "  </tbody>\n",
       "</table>\n",
       "</div>"
      ],
      "text/plain": [
       "  Consumer ID   kW  No. of appliances  No. of priority levels\n",
       "0       701-1  140                100                       2\n",
       "1       701-2  140                100                       2\n",
       "2       701-3  350                100                       5\n",
       "3       712-3   85                100                       2\n",
       "4       713-3   85                100                       1"
      ]
     },
     "execution_count": 2,
     "metadata": {},
     "output_type": "execute_result"
    }
   ],
   "source": [
    "workbook_path = \"./37NTF-C.xlsx\"\n",
    "workbook = openpyxl.load_workbook(workbook_path)\n",
    "writer = pandas.ExcelWriter(workbook_path, engine=\"openpyxl\")\n",
    "writer.book = workbook\n",
    "\n",
    "IEEE_37NTF_df = pandas.read_excel(\"./37NTF-C.xlsx\", sheet_name=\"Overview\")\n",
    "IEEE_37NTF_df.head()"
   ]
  },
  {
   "cell_type": "code",
   "execution_count": 3,
   "metadata": {
    "jupyter": {
     "source_hidden": true
    }
   },
   "outputs": [],
   "source": [
    "# Partition consumer load into appliance ratings\n",
    "for i in IEEE_37NTF_df.index:\n",
    "    rand_points = numpy.random.uniform(0.05, 1.0, size=(IEEE_37NTF_df[\"No. of appliances\"][i]-1,))\n",
    "    # Just to make sure that no values are repeated\n",
    "    while not (rand_points.shape[0] == numpy.unique(rand_points).shape[0]):\n",
    "        rand_points = numpy.random.uniform(0.05, 1.0, size=(IEEE_37NTF_df[\"No. of appliances\"][i]-1,))\n",
    "    \n",
    "    rand_points.sort()\n",
    "    rand_points = numpy.append(numpy.array([0.0]), rand_points)\n",
    "    rand_points = numpy.append(rand_points, numpy.array([1.0]))\n",
    "    \n",
    "    # Appliance ratings\n",
    "    d_c = numpy.array([rand_points[i] - rand_points[i-1] for i in range(1,IEEE_37NTF_df[\"No. of appliances\"][i]+1)])\n",
    "    d_c = d_c * IEEE_37NTF_df[\"kW\"][i]\n",
    "    \n",
    "    # Round appliance ratings to 5 decimal places\n",
    "    d_c = numpy.around(d_c, decimals=5)\n",
    "        \n",
    "    # Just to make sure the sum of all appliance ratings equals the consumer rated load up to numerical precision\n",
    "    deficit = float(IEEE_37NTF_df[\"kW\"][i]) - numpy.sum(d_c)\n",
    "    index_slack_appliance = numpy.random.randint(0, IEEE_37NTF_df[\"No. of appliances\"][i])\n",
    "    d_c[index_slack_appliance] += deficit\n",
    "    \n",
    "    # Assign priority levels to the appliances\n",
    "    priority_levels = numpy.random.randint(1, IEEE_37NTF_df[\"No. of priority levels\"][i]+1, size=d_c.shape)\n",
    "    \n",
    "    # Group appliances according to priority levels\n",
    "    prioritized_d_c = []\n",
    "    for p in range(1, IEEE_37NTF_df[\"No. of priority levels\"][i]+1):\n",
    "        priority_level_masks = priority_levels == p\n",
    "        prioritized_d_c.append(d_c[priority_level_masks])\n",
    "    \n",
    "    # Construct dedicated DataFrame for a consumer\n",
    "    consumer_df = pandas.concat([\n",
    "        pandas.DataFrame({\"Priority level \"+str(p) : prioritized_d_c[p-1]}) \\\n",
    "        for p in range(1, IEEE_37NTF_df[\"No. of priority levels\"][i]+1)\n",
    "    ], axis=1)\n",
    "    \n",
    "    # Export consumer DataFrame as a dedicated sheet in spreadsheet\n",
    "    consumer_df.to_excel(writer, sheet_name=IEEE_37NTF_df[\"Consumer ID\"][i], index=False)"
   ]
  },
  {
   "cell_type": "code",
   "execution_count": 4,
   "metadata": {
    "jupyter": {
     "source_hidden": true
    }
   },
   "outputs": [],
   "source": [
    "# For record keeping (11 October 2020)\n",
    "\n",
    "writer.save()\n",
    "writer.close()"
   ]
  },
  {
   "cell_type": "markdown",
   "metadata": {},
   "source": [
    "---"
   ]
  },
  {
   "cell_type": "code",
   "execution_count": null,
   "metadata": {},
   "outputs": [],
   "source": []
  }
 ],
 "metadata": {
  "kernelspec": {
   "display_name": "Python 3",
   "language": "python",
   "name": "python3"
  },
  "language_info": {
   "codemirror_mode": {
    "name": "ipython",
    "version": 3
   },
   "file_extension": ".py",
   "mimetype": "text/x-python",
   "name": "python",
   "nbconvert_exporter": "python",
   "pygments_lexer": "ipython3",
   "version": "3.8.0"
  }
 },
 "nbformat": 4,
 "nbformat_minor": 4
}
